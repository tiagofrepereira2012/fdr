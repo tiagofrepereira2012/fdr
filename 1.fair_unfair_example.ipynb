{
 "cells": [
  {
   "cell_type": "markdown",
   "metadata": {},
   "source": [
    "# Fairness in Biometrics: a figure of merit to assess biometric verification\n",
    "\n",
    "This notebook is an extension of the paper `Fairness in Biometrics: a figure of merit to assess biometric verification`.\n",
    "The goal is to give a little bit more intuition about the issues with respect to fairness in biometric verification and how the Fairness Discrepancy Rate can be useful.\n",
    "\n",
    "## Fair example\n",
    "\n",
    "The cell below presents the **fair** synthetic biometric verification system example from section 3.1\n",
    "Play with the variables below to sense the problem of having one decision threshold that is fair to **all demographic groups**.\n",
    "\n",
    "Play also with `ALPHA` variable.\n",
    "\n",
    "You can extend the number of demographics by adding/removing elements in `DEMOGRAPHIC_MEAN_DISTANCE` and `DEMOGRAPHIC_STD`"
   ]
  },
  {
   "cell_type": "code",
   "execution_count": 1,
   "metadata": {},
   "outputs": [
    {
     "data": {
      "application/vnd.jupyter.widget-view+json": {
       "model_id": "7230c3d014e94d1fa494775103b1ae0c",
       "version_major": 2,
       "version_minor": 0
      },
      "text/plain": [
       "Canvas(toolbar=Toolbar(toolitems=[('Home', 'Reset original view', 'home', 'home'), ('Back', 'Back to previous …"
      ]
     },
     "metadata": {},
     "output_type": "display_data"
    },
    {
     "name": "stdout",
     "output_type": "stream",
     "text": [
      "##############################################\n",
      "################## FMR #######################\n",
      "##############################################\n",
      "       0.1    0.01    0.001    0.0001    1e-05    1e-06\n",
      " 0  0.0804  0.0084   0.0008    0.0001        0        0\n",
      " 1  0.0821  0.0085   0.0008    0.0001        0        0\n",
      " 2  0.0804  0.0086   0.0008    0             0        0\n",
      "##############################################\n",
      "################## FNMR #######################\n",
      "##############################################\n",
      "      0.1    0.01    0.001    0.0001    1e-05    1e-06\n",
      " 0      0  0        0.0027    0.0389   0.186    0.4577\n",
      " 1      0  0.0001   0.0041    0.0403   0.191    0.4599\n",
      " 2      0  0        0.0044    0.0415   0.1756   0.4346\n",
      "##############################################\n",
      "################## FDR #######################\n",
      "##############################################\n",
      "    0.1     0.01    0.001    0.0001    1e-05    1e-06\n",
      "0.99915  0.99985  0.99915   0.99865   0.9923  0.98735\n"
     ]
    }
   ],
   "source": [
    "%matplotlib widget\n",
    "\n",
    "#################################################\n",
    "## PLAYGROUND: PLAY WITH THE VALUES OF VARIABLES BELOW TO CHANGE THE BEHAVIOUR OF THE FAIR VERIFICATION SYSTEM\n",
    "\n",
    "ALPHA = 0.5\n",
    "\n",
    "\n",
    "# RANGE OF DECISION THRESHOLDS USED IN THE DEVELOPMENT SET\n",
    "TEN_POWER_OF_X = [0.1, 0.01, 0.001, 0.0001, 0.00001, 0.000001] # BASICALLY, THE FMR THRESHOLDS\n",
    "\n",
    "# NUMBER OF IDENTITIES PER DEMOGRAPHIC\n",
    "IDENTITIES_PER_DEMOGRAPHIC = 300\n",
    "\n",
    "# REPRESENTS HOW A SAMPLES ARE SAMPLED\n",
    "# EACH COLUMN REPRESENTS ONE DEMOGRAPHIC.\n",
    "# THE VALUES REPRESENTS THE AVERAGE EUCLIDEAN DISTANCE BETWEEN EACH IDENTITY\n",
    "# EACH IDENTITY IS SAMPLED IN THE CORNER OF A HYPERCUBE\n",
    "DEMOGRAPHIC_MEAN_DISTANCE = [1, 1, 1]\n",
    "# EACH COLUMN REPRESENTS ONE DEMOGRAPHIC.\n",
    "# THE VALUES REPRESENTS THE STANDARD DEVIATIONS OF THE SAMPLES SAMPLED IN THE CORNER OF A HYPERCUBE\n",
    "DEMOGRAPHIC_STD = [0.2, 0.2, 0.2]\n",
    "#################################################\n",
    "\n",
    "\n",
    "\n",
    "import plots\n",
    "import experiments\n",
    "import scoring\n",
    "import fairness_metric\n",
    "import numpy as np\n",
    "\n",
    "\n",
    "# fetching the samples\n",
    "impostors_per_demographic_dev_fair, genuines_per_demographic_dev_fair, \\\n",
    "impostors_per_demographic_eval_fair, genuines_per_demographic_eval_fair,_ = experiments.generate_abstract_experiment(\n",
    "    DEMOGRAPHIC_DISPLACEMENTS = DEMOGRAPHIC_MEAN_DISTANCE,\n",
    "    DEMOGRAPHIC_STD = DEMOGRAPHIC_STD,    \n",
    "    FAR_THRESHOLDS=TEN_POWER_OF_X,\n",
    "    DEV_EVAL_IDENTITIES_PER_DEMOGRAPHIC=IDENTITIES_PER_DEMOGRAPHIC\n",
    ")\n",
    "\n",
    "n_demographics_fair = len(DEMOGRAPHIC_MEAN_DISTANCE)\n",
    "\n",
    "# computing TAU USING THE ZEROTH-EFFORT IMPOSTORS from the development set\n",
    "taus_fair = scoring.compute_thresholds(impostors_per_demographic_dev_fair, TEN_POWER_OF_X)\n",
    "\n",
    "# Plot Figure 1 using data from evaluation set\n",
    "plots.plot_cohort_box_plot(impostors_per_demographic_eval_fair, \n",
    "                     genuines_per_demographic_eval_fair, \n",
    "                     [f\"{i}\" for i in range(n_demographics_fair)],\n",
    "                     thresholds=taus_fair,\n",
    "                     far_thresholds=[10**(i+1) for i,_ in enumerate(TEN_POWER_OF_X)]\n",
    "                    )\n",
    "\n",
    "plots.compute_FMR_FNMR_FDR(impostors_per_demographic_eval_fair,\n",
    "                           genuines_per_demographic_eval_fair,\n",
    "                           thresholds=taus_fair,\n",
    "                           far_thresholds=TEN_POWER_OF_X,\n",
    "                           tablefmt=\"plain\")\n"
   ]
  },
  {
   "cell_type": "markdown",
   "metadata": {},
   "source": [
    "## Unfair example\n",
    "\n",
    "The cell below presents the **UNFAIR** synthetic biometric verification system example from section 3.1\n",
    "Play with the variables below to sense the problem of having one decision threshold that is fair to **all demographic groups**.\n",
    "\n",
    "Play also with `ALPHA` variable.\n",
    "\n",
    "You can extend the number of demographics by adding/removing elements in `DEMOGRAPHIC_MEAN_DISTANCE` and `DEMOGRAPHIC_STD`\n"
   ]
  },
  {
   "cell_type": "code",
   "execution_count": 2,
   "metadata": {},
   "outputs": [
    {
     "data": {
      "application/vnd.jupyter.widget-view+json": {
       "model_id": "1b59137aa602493abdd9e1b667ffb6a8",
       "version_major": 2,
       "version_minor": 0
      },
      "text/plain": [
       "Canvas(toolbar=Toolbar(toolitems=[('Home', 'Reset original view', 'home', 'home'), ('Back', 'Back to previous …"
      ]
     },
     "metadata": {},
     "output_type": "display_data"
    },
    {
     "name": "stdout",
     "output_type": "stream",
     "text": [
      "##############################################\n",
      "################## FMR #######################\n",
      "##############################################\n",
      "       0.1    0.01    0.001    0.0001    1e-05    1e-06\n",
      " 0  0.2142  0.0256   0.0024    0.0002        0        0\n",
      " 1  0.0155  0        0         0             0        0\n",
      " 2  0.0006  0        0         0             0        0\n",
      "##############################################\n",
      "################## FNMR #######################\n",
      "##############################################\n",
      "       0.1    0.01    0.001    0.0001    1e-05    1e-06\n",
      " 0  0       0        0         0        0        0\n",
      " 1  0       0.006    0.0876    0.2471   0.4596   0.6482\n",
      " 2  0.1835  0.9614   0.9935    0.9981   0.9992   0.9999\n",
      "##############################################\n",
      "################## FDR #######################\n",
      "##############################################\n",
      "    0.1    0.01    0.001    0.0001    1e-05    1e-06\n",
      "0.80145  0.5065  0.50205   0.50085   0.5004  0.50005\n"
     ]
    }
   ],
   "source": [
    "#################################################\n",
    "## PLAYGROUND: PLAY WITH THE VALUES OF VARIABLES BELOW TO CHANGE THE BEHAVIOUR OF THE FAIR VERIFICATION SYSTEM\n",
    "\n",
    "# NUMBER OF IDENTITIES PER DEMOGRAPHIC\n",
    "IDENTITIES_PER_DEMOGRAPHIC = 300\n",
    "\n",
    "# REPRESENTS HOW A SAMPLES ARE SAMPLED\n",
    "# EACH COLUMN REPRESENTS ONE DEMOGRAPHIC.\n",
    "# THE VALUES REPRESENTS THE AVERAGE EUCLIDEAN DISTANCE BETWEEN EACH IDENTITY\n",
    "# EACH IDENTITY IS SAMPLED IN THE CORNER OF A HYPERCUBE\n",
    "DEMOGRAPHIC_MEAN_DISTANCE = [0.8, 1.3, 1.5]\n",
    "# EACH COLUMN REPRESENTS ONE DEMOGRAPHIC.\n",
    "# THE VALUES REPRESENTS THE STANDARD DEVIATIONS OF THE SAMPLES SAMPLED IN THE CORNER OF A HYPERCUBE\n",
    "DEMOGRAPHIC_STD = [0.1, 0.2, 0.4]\n",
    "#################################################\n",
    "\n",
    "n_demographics_unfair = len(DEMOGRAPHIC_MEAN_DISTANCE)\n",
    "\n",
    "impostors_per_demographic_dev_unfair, genuines_per_demographic_dev_unfair, \\\n",
    "impostors_per_demographic_eval_unfair, genuines_per_demographic_eval_unfair, _ = \\\n",
    "experiments.generate_abstract_experiment(DEMOGRAPHIC_DISPLACEMENTS=DEMOGRAPHIC_MEAN_DISTANCE,\n",
    "                                        DEMOGRAPHIC_STD=DEMOGRAPHIC_STD,\n",
    "                                        DEV_EVAL_IDENTITIES_PER_DEMOGRAPHIC=IDENTITIES_PER_DEMOGRAPHIC)\n",
    "                       \n",
    "# computing TAU USING THE ZEROTH-EFFORT IMPOSTORS from the development set\n",
    "taus_unfair = scoring.compute_thresholds(impostors_per_demographic_dev_unfair, TEN_POWER_OF_X)\n",
    "\n",
    "# Plot Figure 1 using data from evaluation set\n",
    "plots.plot_cohort_box_plot(impostors_per_demographic_eval_unfair,\n",
    "                           genuines_per_demographic_eval_unfair,\n",
    "                           [f\"{i}\" for i in range(n_demographics_unfair)],\n",
    "                           thresholds=taus_unfair,\n",
    "                           far_thresholds=[10**(i+1) for i,_ in enumerate(taus_unfair)])\n",
    "\n",
    "\n",
    "plots.compute_FMR_FNMR_FDR(impostors_per_demographic_eval_unfair,\n",
    "                           genuines_per_demographic_eval_unfair,\n",
    "                           thresholds=taus_unfair,\n",
    "                           far_thresholds=TEN_POWER_OF_X,\n",
    "                           tablefmt=\"plain\")"
   ]
  },
  {
   "cell_type": "markdown",
   "metadata": {},
   "source": [
    "### Fairness Discrepancy Curve\n",
    "\n",
    "It computes **FDR** for the synthetic fair and unfair systems and computes the Area Under FDR.\n",
    "\n",
    "Play around with the value of `ALPHA` to sense how this impacts the FDR Curve and the Area Under FDR.\n"
   ]
  },
  {
   "cell_type": "code",
   "execution_count": 3,
   "metadata": {},
   "outputs": [
    {
     "data": {
      "application/vnd.jupyter.widget-view+json": {
       "model_id": "f16051d3effa466dade3327f7e2b8102",
       "version_major": 2,
       "version_minor": 0
      },
      "text/plain": [
       "Canvas(toolbar=Toolbar(toolitems=[('Home', 'Reset original view', 'home', 'home'), ('Back', 'Back to previous …"
      ]
     },
     "metadata": {},
     "output_type": "display_data"
    },
    {
     "ename": "ConversionError",
     "evalue": "Failed to convert value(s) to axis units: ['10', '10', '10', '10', '10', '10']",
     "output_type": "error",
     "traceback": [
      "\u001b[0;31m---------------------------------------------------------------------------\u001b[0m",
      "\u001b[0;31mValueError\u001b[0m                                Traceback (most recent call last)",
      "\u001b[0;32m/idiap/user/tpereira/conda/envs/bob.pipelines/lib/python3.7/site-packages/matplotlib/axis.py\u001b[0m in \u001b[0;36mconvert_units\u001b[0;34m(self, x)\u001b[0m\n\u001b[1;32m   1519\u001b[0m         \u001b[0;32mtry\u001b[0m\u001b[0;34m:\u001b[0m\u001b[0;34m\u001b[0m\u001b[0;34m\u001b[0m\u001b[0m\n\u001b[0;32m-> 1520\u001b[0;31m             \u001b[0mret\u001b[0m \u001b[0;34m=\u001b[0m \u001b[0mself\u001b[0m\u001b[0;34m.\u001b[0m\u001b[0mconverter\u001b[0m\u001b[0;34m.\u001b[0m\u001b[0mconvert\u001b[0m\u001b[0;34m(\u001b[0m\u001b[0mx\u001b[0m\u001b[0;34m,\u001b[0m \u001b[0mself\u001b[0m\u001b[0;34m.\u001b[0m\u001b[0munits\u001b[0m\u001b[0;34m,\u001b[0m \u001b[0mself\u001b[0m\u001b[0;34m)\u001b[0m\u001b[0;34m\u001b[0m\u001b[0;34m\u001b[0m\u001b[0m\n\u001b[0m\u001b[1;32m   1521\u001b[0m         \u001b[0;32mexcept\u001b[0m \u001b[0mException\u001b[0m \u001b[0;32mas\u001b[0m \u001b[0me\u001b[0m\u001b[0;34m:\u001b[0m\u001b[0;34m\u001b[0m\u001b[0;34m\u001b[0m\u001b[0m\n",
      "\u001b[0;32m/idiap/user/tpereira/conda/envs/bob.pipelines/lib/python3.7/site-packages/matplotlib/category.py\u001b[0m in \u001b[0;36mconvert\u001b[0;34m(value, unit, axis)\u001b[0m\n\u001b[1;32m     49\u001b[0m             raise ValueError(\n\u001b[0;32m---> 50\u001b[0;31m                 \u001b[0;34m'Missing category information for StrCategoryConverter; '\u001b[0m\u001b[0;34m\u001b[0m\u001b[0;34m\u001b[0m\u001b[0m\n\u001b[0m\u001b[1;32m     51\u001b[0m                 \u001b[0;34m'this might be caused by unintendedly mixing categorical and '\u001b[0m\u001b[0;34m\u001b[0m\u001b[0;34m\u001b[0m\u001b[0m\n",
      "\u001b[0;31mValueError\u001b[0m: Missing category information for StrCategoryConverter; this might be caused by unintendedly mixing categorical and numeric data",
      "\nThe above exception was the direct cause of the following exception:\n",
      "\u001b[0;31mConversionError\u001b[0m                           Traceback (most recent call last)",
      "\u001b[0;32m<ipython-input-3-3d87309ce6b3>\u001b[0m in \u001b[0;36m<module>\u001b[0;34m\u001b[0m\n\u001b[1;32m     19\u001b[0m                                     \u001b[0mlabels\u001b[0m\u001b[0;34m=\u001b[0m\u001b[0;34m[\u001b[0m\u001b[0;34m\"Fair Biom. System\"\u001b[0m\u001b[0;34m,\u001b[0m\u001b[0;34m\"Unfair Biom. System\"\u001b[0m\u001b[0;34m]\u001b[0m\u001b[0;34m,\u001b[0m\u001b[0;34m\u001b[0m\u001b[0;34m\u001b[0m\u001b[0m\n\u001b[1;32m     20\u001b[0m                                     \u001b[0mfar_thresholds\u001b[0m\u001b[0;34m=\u001b[0m\u001b[0mTEN_POWER_OF_X\u001b[0m\u001b[0;34m,\u001b[0m\u001b[0;34m\u001b[0m\u001b[0;34m\u001b[0m\u001b[0m\n\u001b[0;32m---> 21\u001b[0;31m                                     title=\"\")\n\u001b[0m\u001b[1;32m     22\u001b[0m \u001b[0;34m\u001b[0m\u001b[0m\n\u001b[1;32m     23\u001b[0m \u001b[0;34m\u001b[0m\u001b[0m\n",
      "\u001b[0;32m/remote/idiap.svm/user.active/tpereira/github/fdr/fairness_metric.py\u001b[0m in \u001b[0;36mfairness_plot_clean\u001b[0;34m(f_taus, labels, far_thresholds, epsilon, title)\u001b[0m\n\u001b[1;32m     56\u001b[0m     \u001b[0;31m#plt.ylim((0, max([max(transform(f)) for f in f_taus])))\u001b[0m\u001b[0;34m\u001b[0m\u001b[0;34m\u001b[0m\u001b[0;34m\u001b[0m\u001b[0m\n\u001b[1;32m     57\u001b[0m     \u001b[0mplt\u001b[0m\u001b[0;34m.\u001b[0m\u001b[0mylim\u001b[0m\u001b[0;34m(\u001b[0m\u001b[0;34m(\u001b[0m\u001b[0;36m0.0\u001b[0m\u001b[0;34m,\u001b[0m \u001b[0;36m1.1\u001b[0m\u001b[0;34m)\u001b[0m\u001b[0;34m)\u001b[0m\u001b[0;34m\u001b[0m\u001b[0;34m\u001b[0m\u001b[0m\n\u001b[0;32m---> 58\u001b[0;31m     \u001b[0mplt\u001b[0m\u001b[0;34m.\u001b[0m\u001b[0mxticks\u001b[0m\u001b[0;34m(\u001b[0m\u001b[0;34m[\u001b[0m\u001b[0;34mf\"10\"\u001b[0m \u001b[0;32mfor\u001b[0m \u001b[0mi\u001b[0m \u001b[0;32min\u001b[0m \u001b[0mrange\u001b[0m\u001b[0;34m(\u001b[0m\u001b[0mlen\u001b[0m\u001b[0;34m(\u001b[0m\u001b[0mfar_thresholds\u001b[0m\u001b[0;34m)\u001b[0m\u001b[0;34m)\u001b[0m\u001b[0;34m]\u001b[0m\u001b[0;34m)\u001b[0m\u001b[0;34m\u001b[0m\u001b[0;34m\u001b[0m\u001b[0m\n\u001b[0m\u001b[1;32m     59\u001b[0m \u001b[0;34m\u001b[0m\u001b[0m\n\u001b[1;32m     60\u001b[0m     \u001b[0mplt\u001b[0m\u001b[0;34m.\u001b[0m\u001b[0mlegend\u001b[0m\u001b[0;34m(\u001b[0m\u001b[0;34m)\u001b[0m\u001b[0;34m\u001b[0m\u001b[0;34m\u001b[0m\u001b[0m\n",
      "\u001b[0;32m/idiap/user/tpereira/conda/envs/bob.pipelines/lib/python3.7/site-packages/matplotlib/pyplot.py\u001b[0m in \u001b[0;36mxticks\u001b[0;34m(ticks, labels, **kwargs)\u001b[0m\n\u001b[1;32m   1636\u001b[0m                             \"without setting 'ticks'\")\n\u001b[1;32m   1637\u001b[0m     \u001b[0;32melse\u001b[0m\u001b[0;34m:\u001b[0m\u001b[0;34m\u001b[0m\u001b[0;34m\u001b[0m\u001b[0m\n\u001b[0;32m-> 1638\u001b[0;31m         \u001b[0mlocs\u001b[0m \u001b[0;34m=\u001b[0m \u001b[0max\u001b[0m\u001b[0;34m.\u001b[0m\u001b[0mset_xticks\u001b[0m\u001b[0;34m(\u001b[0m\u001b[0mticks\u001b[0m\u001b[0;34m)\u001b[0m\u001b[0;34m\u001b[0m\u001b[0;34m\u001b[0m\u001b[0m\n\u001b[0m\u001b[1;32m   1639\u001b[0m \u001b[0;34m\u001b[0m\u001b[0m\n\u001b[1;32m   1640\u001b[0m     \u001b[0;32mif\u001b[0m \u001b[0mlabels\u001b[0m \u001b[0;32mis\u001b[0m \u001b[0;32mNone\u001b[0m\u001b[0;34m:\u001b[0m\u001b[0;34m\u001b[0m\u001b[0;34m\u001b[0m\u001b[0m\n",
      "\u001b[0;32m/idiap/user/tpereira/conda/envs/bob.pipelines/lib/python3.7/site-packages/matplotlib/axes/_base.py\u001b[0m in \u001b[0;36mwrapper\u001b[0;34m(self, *args, **kwargs)\u001b[0m\n\u001b[1;32m     61\u001b[0m \u001b[0;34m\u001b[0m\u001b[0m\n\u001b[1;32m     62\u001b[0m         \u001b[0;32mdef\u001b[0m \u001b[0mwrapper\u001b[0m\u001b[0;34m(\u001b[0m\u001b[0mself\u001b[0m\u001b[0;34m,\u001b[0m \u001b[0;34m*\u001b[0m\u001b[0margs\u001b[0m\u001b[0;34m,\u001b[0m \u001b[0;34m**\u001b[0m\u001b[0mkwargs\u001b[0m\u001b[0;34m)\u001b[0m\u001b[0;34m:\u001b[0m\u001b[0;34m\u001b[0m\u001b[0;34m\u001b[0m\u001b[0m\n\u001b[0;32m---> 63\u001b[0;31m             \u001b[0;32mreturn\u001b[0m \u001b[0mget_method\u001b[0m\u001b[0;34m(\u001b[0m\u001b[0mself\u001b[0m\u001b[0;34m)\u001b[0m\u001b[0;34m(\u001b[0m\u001b[0;34m*\u001b[0m\u001b[0margs\u001b[0m\u001b[0;34m,\u001b[0m \u001b[0;34m**\u001b[0m\u001b[0mkwargs\u001b[0m\u001b[0;34m)\u001b[0m\u001b[0;34m\u001b[0m\u001b[0;34m\u001b[0m\u001b[0m\n\u001b[0m\u001b[1;32m     64\u001b[0m \u001b[0;34m\u001b[0m\u001b[0m\n\u001b[1;32m     65\u001b[0m         \u001b[0mwrapper\u001b[0m\u001b[0;34m.\u001b[0m\u001b[0m__module__\u001b[0m \u001b[0;34m=\u001b[0m \u001b[0mowner\u001b[0m\u001b[0;34m.\u001b[0m\u001b[0m__module__\u001b[0m\u001b[0;34m\u001b[0m\u001b[0;34m\u001b[0m\u001b[0m\n",
      "\u001b[0;32m/idiap/user/tpereira/conda/envs/bob.pipelines/lib/python3.7/site-packages/matplotlib/cbook/deprecation.py\u001b[0m in \u001b[0;36mwrapper\u001b[0;34m(*args, **kwargs)\u001b[0m\n\u001b[1;32m    449\u001b[0m                 \u001b[0;34m\"parameter will become keyword-only %(removal)s.\"\u001b[0m\u001b[0;34m,\u001b[0m\u001b[0;34m\u001b[0m\u001b[0;34m\u001b[0m\u001b[0m\n\u001b[1;32m    450\u001b[0m                 name=name, obj_type=f\"parameter of {func.__name__}()\")\n\u001b[0;32m--> 451\u001b[0;31m         \u001b[0;32mreturn\u001b[0m \u001b[0mfunc\u001b[0m\u001b[0;34m(\u001b[0m\u001b[0;34m*\u001b[0m\u001b[0margs\u001b[0m\u001b[0;34m,\u001b[0m \u001b[0;34m**\u001b[0m\u001b[0mkwargs\u001b[0m\u001b[0;34m)\u001b[0m\u001b[0;34m\u001b[0m\u001b[0;34m\u001b[0m\u001b[0m\n\u001b[0m\u001b[1;32m    452\u001b[0m \u001b[0;34m\u001b[0m\u001b[0m\n\u001b[1;32m    453\u001b[0m     \u001b[0;32mreturn\u001b[0m \u001b[0mwrapper\u001b[0m\u001b[0;34m\u001b[0m\u001b[0;34m\u001b[0m\u001b[0m\n",
      "\u001b[0;32m/idiap/user/tpereira/conda/envs/bob.pipelines/lib/python3.7/site-packages/matplotlib/axis.py\u001b[0m in \u001b[0;36mset_ticks\u001b[0;34m(self, ticks, minor)\u001b[0m\n\u001b[1;32m   1806\u001b[0m         \"\"\"\n\u001b[1;32m   1807\u001b[0m         \u001b[0;31m# XXX if the user changes units, the information will be lost here\u001b[0m\u001b[0;34m\u001b[0m\u001b[0;34m\u001b[0m\u001b[0;34m\u001b[0m\u001b[0m\n\u001b[0;32m-> 1808\u001b[0;31m         \u001b[0mticks\u001b[0m \u001b[0;34m=\u001b[0m \u001b[0mself\u001b[0m\u001b[0;34m.\u001b[0m\u001b[0mconvert_units\u001b[0m\u001b[0;34m(\u001b[0m\u001b[0mticks\u001b[0m\u001b[0;34m)\u001b[0m\u001b[0;34m\u001b[0m\u001b[0;34m\u001b[0m\u001b[0m\n\u001b[0m\u001b[1;32m   1809\u001b[0m         \u001b[0;32mif\u001b[0m \u001b[0mlen\u001b[0m\u001b[0;34m(\u001b[0m\u001b[0mticks\u001b[0m\u001b[0;34m)\u001b[0m \u001b[0;34m>\u001b[0m \u001b[0;36m1\u001b[0m\u001b[0;34m:\u001b[0m\u001b[0;34m\u001b[0m\u001b[0;34m\u001b[0m\u001b[0m\n\u001b[1;32m   1810\u001b[0m             \u001b[0mxleft\u001b[0m\u001b[0;34m,\u001b[0m \u001b[0mxright\u001b[0m \u001b[0;34m=\u001b[0m \u001b[0mself\u001b[0m\u001b[0;34m.\u001b[0m\u001b[0mget_view_interval\u001b[0m\u001b[0;34m(\u001b[0m\u001b[0;34m)\u001b[0m\u001b[0;34m\u001b[0m\u001b[0;34m\u001b[0m\u001b[0m\n",
      "\u001b[0;32m/idiap/user/tpereira/conda/envs/bob.pipelines/lib/python3.7/site-packages/matplotlib/axis.py\u001b[0m in \u001b[0;36mconvert_units\u001b[0;34m(self, x)\u001b[0m\n\u001b[1;32m   1521\u001b[0m         \u001b[0;32mexcept\u001b[0m \u001b[0mException\u001b[0m \u001b[0;32mas\u001b[0m \u001b[0me\u001b[0m\u001b[0;34m:\u001b[0m\u001b[0;34m\u001b[0m\u001b[0;34m\u001b[0m\u001b[0m\n\u001b[1;32m   1522\u001b[0m             raise munits.ConversionError('Failed to convert value(s) to axis '\n\u001b[0;32m-> 1523\u001b[0;31m                                          f'units: {x!r}') from e\n\u001b[0m\u001b[1;32m   1524\u001b[0m         \u001b[0;32mreturn\u001b[0m \u001b[0mret\u001b[0m\u001b[0;34m\u001b[0m\u001b[0;34m\u001b[0m\u001b[0m\n\u001b[1;32m   1525\u001b[0m \u001b[0;34m\u001b[0m\u001b[0m\n",
      "\u001b[0;31mConversionError\u001b[0m: Failed to convert value(s) to axis units: ['10', '10', '10', '10', '10', '10']"
     ]
    }
   ],
   "source": [
    "import fairness_metric\n",
    "\n",
    "### FAIR\n",
    "f_tau_fair = fairness_metric.compute_fairness_biometric_verification(impostors_per_demographic_eval_fair, \n",
    "                                                                     genuines_per_demographic_eval_fair,\n",
    "                                                                     taus_fair,\n",
    "                                                                     len(taus_fair),\n",
    "                                                                     n_demographics_fair,\n",
    "                                                                     alpha=ALPHA)\n",
    "\n",
    "f_tau_unfair = fairness_metric.compute_fairness_biometric_verification(impostors_per_demographic_eval_unfair,\n",
    "                                                                       genuines_per_demographic_eval_unfair,\n",
    "                                                                       taus_unfair,\n",
    "                                                                       len(taus_unfair),\n",
    "                                                                       n_demographics_unfair,\n",
    "                                                                       alpha=ALPHA)\n",
    "\n",
    "fairness_metric.fairness_plot_clean([f_tau_fair,f_tau_unfair],\n",
    "                                    labels=[\"Fair Biom. System\",\"Unfair Biom. System\"],\n",
    "                                    far_thresholds=TEN_POWER_OF_X,\n",
    "                                    title=\"\")\n",
    "\n",
    "\n",
    "\n",
    "print(f\"AU-FDR from fair system {fairness_metric.fpr_auc_score(f_tau_fair, TEN_POWER_OF_X)}\")\n",
    "print(f\"AU-FDR from unfair system {fairness_metric.fpr_auc_score(f_tau_unfair, TEN_POWER_OF_X)}\")\n"
   ]
  },
  {
   "cell_type": "code",
   "execution_count": null,
   "metadata": {},
   "outputs": [],
   "source": []
  }
 ],
 "metadata": {
  "kernelspec": {
   "display_name": "Python 3",
   "language": "python",
   "name": "python3"
  },
  "language_info": {
   "codemirror_mode": {
    "name": "ipython",
    "version": 3
   },
   "file_extension": ".py",
   "mimetype": "text/x-python",
   "name": "python",
   "nbconvert_exporter": "python",
   "pygments_lexer": "ipython3",
   "version": "3.7.7"
  }
 },
 "nbformat": 4,
 "nbformat_minor": 4
}
