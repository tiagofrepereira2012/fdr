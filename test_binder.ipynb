{
 "cells": [
  {
   "cell_type": "markdown",
   "metadata": {},
   "source": [
    "# Test Binder\n",
    "\n"
   ]
  },
  {
   "cell_type": "code",
   "execution_count": 1,
   "metadata": {},
   "outputs": [
    {
     "data": {
      "application/vnd.jupyter.widget-view+json": {
       "model_id": "91af0e605f0d464cafb1176e8e916969",
       "version_major": 2,
       "version_minor": 0
      },
      "text/plain": [
       "Canvas(toolbar=Toolbar(toolitems=[('Home', 'Reset original view', 'home', 'home'), ('Back', 'Back to previous …"
      ]
     },
     "metadata": {},
     "output_type": "display_data"
    },
    {
     "name": "stdout",
     "output_type": "stream",
     "text": [
      "##############################################\n",
      "################## FMR #######################\n",
      "##############################################\n",
      "\\begin{tabular}{rrrrrrr}\n",
      "\\hline\n",
      "    &    0.1 &   0.01 &   0.001 &   0.0001 &   1e-05 &   1e-06 \\\\\n",
      "\\hline\n",
      "  0 & 0.0953 & 0.0094 &  0.0009 &   0.0001 &       0 &       0 \\\\\n",
      "  1 & 0.0975 & 0.0099 &  0.001  &   0.0001 &       0 &       0 \\\\\n",
      "  2 & 0.097  & 0.0097 &  0.0009 &   0.0001 &       0 &       0 \\\\\n",
      "\\hline\n",
      "\\end{tabular}\n",
      "##############################################\n",
      "################## FNMR #######################\n",
      "##############################################\n",
      "\\begin{tabular}{rrrrrrr}\n",
      "\\hline\n",
      "    &   0.1 &   0.01 &   0.001 &   0.0001 &   1e-05 &   1e-06 \\\\\n",
      "\\hline\n",
      "  0 &     0 &      0 &  0.0038 &   0.0407 &  0.1854 &  0.3992 \\\\\n",
      "  1 &     0 &      0 &  0.0032 &   0.0412 &  0.1842 &  0.4004 \\\\\n",
      "  2 &     0 &      0 &  0.0016 &   0.0404 &  0.1829 &  0.3966 \\\\\n",
      "\\hline\n",
      "\\end{tabular}\n",
      "##############################################\n",
      "################## FDR #######################\n",
      "##############################################\n",
      "\\begin{tabular}{rrrrrr}\n",
      "\\hline\n",
      "    0.1 &    0.01 &   0.001 &   0.0001 &   1e-05 &   1e-06 \\\\\n",
      "\\hline\n",
      " 0.9989 & 0.99975 & 0.99885 &   0.9996 & 0.99875 &  0.9981 \\\\\n",
      "\\hline\n",
      "\\end{tabular}\n"
     ]
    }
   ],
   "source": [
    "import numpy as np\n",
    "FAR_THRESHOLDS=[0.1, 0.01, 0.001, 0.0001, 0.00001, 0.000001]\n",
    "\n"
   ]
  }
 ],
 "metadata": {
  "kernelspec": {
   "display_name": "Python 3",
   "language": "python",
   "name": "python3"
  },
  "language_info": {
   "codemirror_mode": {
    "name": "ipython",
    "version": 3
   },
   "file_extension": ".py",
   "mimetype": "text/x-python",
   "name": "python",
   "nbconvert_exporter": "python",
   "pygments_lexer": "ipython3",
   "version": "3.7.7"
  }
 },
 "nbformat": 4,
 "nbformat_minor": 4
}
