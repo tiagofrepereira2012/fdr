{
 "cells": [
  {
   "cell_type": "markdown",
   "metadata": {},
   "source": [
    "# Fairness in Biometrics: a figure of merit to assess biometric verification system\n",
    "\n",
    "## The role of Z-Norm\n",
    "\n"
   ]
  },
  {
   "cell_type": "code",
   "execution_count": 1,
   "metadata": {},
   "outputs": [
    {
     "data": {
      "application/vnd.jupyter.widget-view+json": {
       "model_id": "e8540bab2a08422d9a28ccaf23806bd0",
       "version_major": 2,
       "version_minor": 0
      },
      "text/plain": [
       "Canvas(toolbar=Toolbar(toolitems=[('Home', 'Reset original view', 'home', 'home'), ('Back', 'Back to previous …"
      ]
     },
     "metadata": {},
     "output_type": "display_data"
    },
    {
     "name": "stdout",
     "output_type": "stream",
     "text": [
      "##############################################\n",
      "################## FMR #######################\n",
      "##############################################\n",
      "       0.1    0.01    0.001    0.0001    1e-05    1e-06\n",
      " 0  0.2255  0.0256   0.0024    0.0002        0        0\n",
      " 1  0.0024  0        0         0             0        0\n",
      " 2  0       0        0         0             0        0\n",
      "##############################################\n",
      "################## FNMR #######################\n",
      "##############################################\n",
      "       0.1    0.01    0.001    0.0001    1e-05    1e-06\n",
      " 0  0       0        0         0        0        0\n",
      " 1  0       0.006    0.0876    0.2471   0.4596   0.6482\n",
      " 2  0.0016  0.5701   0.8576    0.9438   0.981    0.9909\n",
      "##############################################\n",
      "################## FDR #######################\n",
      "##############################################\n",
      "    0.1     0.01    0.001    0.0001    1e-05    1e-06\n",
      "0.88645  0.70215     0.57     0.528   0.5095  0.50455\n"
     ]
    }
   ],
   "source": [
    "%matplotlib widget\n",
    "\n",
    "#################################################\n",
    "## PLAYGROUND: PLAY WITH THE VALUES OF VARIABLES BELOW TO CHANGE THE BEHAVIOUR OF THE FAIR VERIFICATION SYSTEM\n",
    "\n",
    "ALPHA = 0.5\n",
    "\n",
    "\n",
    "# RANGE OF DECISION THRESHOLDS USED IN THE DEVELOPMENT SET\n",
    "TEN_POWER_OF_X = [0.1, 0.01, 0.001, 0.0001, 0.00001, 0.000001] # BASICALLY, THE FMR THRESHOLDS\n",
    "\n",
    "# NUMBER OF IDENTITIES PER DEMOGRAPHIC\n",
    "IDENTITIES_PER_DEMOGRAPHIC = 300\n",
    "\n",
    "# REPRESENTS HOW A SAMPLES ARE SAMPLED\n",
    "# EACH COLUMN REPRESENTS ONE DEMOGRAPHIC.\n",
    "# THE VALUES REPRESENTS THE AVERAGE EUCLIDEAN DISTANCE BETWEEN EACH IDENTITY\n",
    "# EACH IDENTITY IS SAMPLED IN THE CORNER OF A HYPERCUBE\n",
    "DEMOGRAPHIC_MEAN_DISTANCE = [0.8, 1.5, 2.3]\n",
    "# EACH COLUMN REPRESENTS ONE DEMOGRAPHIC.\n",
    "# THE VALUES REPRESENTS THE STANDARD DEVIATIONS OF THE SAMPLES SAMPLED IN THE CORNER OF A HYPERCUBE\n",
    "DEMOGRAPHIC_STD = [0.1, 0.2, 0.3]\n",
    "#################################################\n",
    "\n",
    "\n",
    "\n",
    "import plots\n",
    "import experiments\n",
    "import scoring\n",
    "import fairness_metric\n",
    "import numpy as np\n",
    "\n",
    "\n",
    "# fetching the samples\n",
    "impostors_per_demographic_dev_fair, genuines_per_demographic_dev_fair, \\\n",
    "impostors_per_demographic_eval_fair, genuines_per_demographic_eval_fair = \\\n",
    "experiments.generate_uncalibrated_experiment(DEMOGRAPHIC_DISPLACEMENTS=DEMOGRAPHIC_MEAN_DISTANCE,\n",
    "                                             DEMOGRAPHIC_STD=DEMOGRAPHIC_STD,\n",
    "                                             DEV_EVAL_IDENTITIES_PER_DEMOGRAPHIC=IDENTITIES_PER_DEMOGRAPHIC)\n",
    "\n",
    "n_demographics_fair = len(DEMOGRAPHIC_MEAN_DISTANCE)\n",
    "\n",
    "# computing TAU USING THE ZEROTH-EFFORT IMPOSTORS from the development set\n",
    "taus_fair = scoring.compute_thresholds(impostors_per_demographic_dev_fair, TEN_POWER_OF_X)\n",
    "\n",
    "# Plot Figure 1 using data from evaluation set\n",
    "plots.plot_cohort_box_plot(impostors_per_demographic_eval_fair, \n",
    "                     genuines_per_demographic_eval_fair, \n",
    "                     [f\"{i}\" for i in range(n_demographics_fair)],\n",
    "                     thresholds=taus_fair,\n",
    "                     far_thresholds=[10**(i+1) for i,_ in enumerate(TEN_POWER_OF_X)]\n",
    "                    )\n",
    "\n",
    "plots.compute_FMR_FNMR_FDR(impostors_per_demographic_eval_fair,\n",
    "                           genuines_per_demographic_eval_fair,\n",
    "                           thresholds=taus_fair,\n",
    "                           far_thresholds=TEN_POWER_OF_X,\n",
    "                           tablefmt=\"plain\")"
   ]
  },
  {
   "cell_type": "code",
   "execution_count": 30,
   "metadata": {},
   "outputs": [
    {
     "name": "stdout",
     "output_type": "stream",
     "text": [
      "{0: {0: {'mu': -4.2131890326892005, 'std': 0.5219457242648694}, 1: {'mu': -4.106491150685073, 'std': 0.5447890633916114}, 2: {'mu': -4.152632804819067, 'std': 0.5237488565684416}, 3: {'mu': -4.206168604194692, 'std': 0.5673408652498316}, 4: {'mu': -4.511208138016518, 'std': 0.643013385595466}, 5: {'mu': -3.9234281687005272, 'std': 0.5821891563306566}, 6: {'mu': -4.221642116781441, 'std': 0.5586131950256825}, 7: {'mu': -4.066731198122868, 'std': 0.5817714811733453}, 8: {'mu': -4.389095587070601, 'std': 0.5608477422232961}, 9: {'mu': -4.114971969393636, 'std': 0.5654794730004989}, 10: {'mu': -4.261329312869845, 'std': 0.619872900415539}, 11: {'mu': -4.148492411617703, 'std': 0.6235370150392832}, 12: {'mu': -4.426430106446933, 'std': 0.7173326196152813}, 13: {'mu': -3.907993964507495, 'std': 0.6776595412728608}, 14: {'mu': -4.456683920793405, 'std': 0.7378103752517988}, 15: {'mu': -4.095068109373371, 'std': 0.6513366075579541}, 16: {'mu': -3.8288800317799225, 'std': 0.6148709044143156}, 17: {'mu': -3.9538041517363234, 'std': 0.6713696103396107}, 18: {'mu': -4.133192533043109, 'std': 0.765254649855886}, 19: {'mu': -4.066012888958951, 'std': 0.7760759455009951}, 20: {'mu': -4.014032069973266, 'std': 0.5934019928171921}, 21: {'mu': -4.192329561898516, 'std': 0.719820572017595}, 22: {'mu': -4.285512166291293, 'std': 0.6852924340475901}, 23: {'mu': -4.16345413341897, 'std': 0.7238056718343212}, 24: {'mu': -3.9852457606027345, 'std': 0.6839469920578247}, 25: {'mu': -4.119833307430839, 'std': 0.6529841346660373}, 26: {'mu': -3.899139787541943, 'std': 0.6810272754570323}, 27: {'mu': -3.9243024043542087, 'std': 0.6724411183728146}, 28: {'mu': -3.749869520366669, 'std': 0.6550197941231446}, 29: {'mu': -4.231464954986276, 'std': 0.68471169576674}, 30: {'mu': -3.9956259135416516, 'std': 0.6874307791921438}, 31: {'mu': -4.236621365811671, 'std': 0.7056748518975138}, 32: {'mu': -4.1506324759586555, 'std': 0.6262078002276743}, 33: {'mu': -3.7036948648916286, 'std': 0.6644151013640767}, 34: {'mu': -4.301989302885204, 'std': 0.7068325856805028}, 35: {'mu': -4.207160927642462, 'std': 0.6666933135829987}, 36: {'mu': -4.159760414697135, 'std': 0.6119059352938727}, 37: {'mu': -4.1860327528884245, 'std': 0.6908795211540014}, 38: {'mu': -4.129762757213819, 'std': 0.7353532742978901}, 39: {'mu': -4.038407682080685, 'std': 0.7562136794000431}, 40: {'mu': -3.813142452306613, 'std': 0.6571692813133595}, 41: {'mu': -4.161538155190673, 'std': 0.6956215406980191}, 42: {'mu': -4.292489914928042, 'std': 0.7375427151816136}, 43: {'mu': -3.9180335028263786, 'std': 0.7449194711710615}, 44: {'mu': -4.373017016473302, 'std': 0.701753596856457}, 45: {'mu': -4.061598698696752, 'std': 0.706665554491814}, 46: {'mu': -4.222737677088513, 'std': 0.6826284204963468}, 47: {'mu': -4.180091469129738, 'std': 0.7354205465643818}, 48: {'mu': -4.112117544113231, 'std': 0.6798373670623372}, 49: {'mu': -3.7416907103198542, 'std': 0.6162597654146321}}, 1: {0: {'mu': -4.045031305409159, 'std': 0.5674872352275802}, 1: {'mu': -4.098369263732287, 'std': 0.5720101675734245}, 2: {'mu': -3.909318788503875, 'std': 0.5447682910429152}, 3: {'mu': -4.091036278497839, 'std': 0.5346889173530699}, 4: {'mu': -4.209343224571772, 'std': 0.5937851210076985}, 5: {'mu': -4.054444748563437, 'std': 0.5822214320127601}, 6: {'mu': -4.224505573024729, 'std': 0.5950215568890156}, 7: {'mu': -3.946973589877599, 'std': 0.5778182639060522}, 8: {'mu': -4.404928280074751, 'std': 0.6558792978065292}, 9: {'mu': -4.29654620802827, 'std': 0.6194536743718956}, 10: {'mu': -4.128849784121759, 'std': 0.6187080870789672}, 11: {'mu': -4.4714273886458855, 'std': 0.6770926666256439}, 12: {'mu': -4.24144116244499, 'std': 0.7136378046191171}, 13: {'mu': -4.243204118223917, 'std': 0.7092470850757874}, 14: {'mu': -4.04720327598966, 'std': 0.6731890390884604}, 15: {'mu': -3.9178483386397382, 'std': 0.7240449998255586}, 16: {'mu': -3.8389381031547885, 'std': 0.599303121451794}, 17: {'mu': -4.044662034522173, 'std': 0.6988295286994398}, 18: {'mu': -4.037089664752488, 'std': 0.7270650249091907}, 19: {'mu': -4.0610680147311085, 'std': 0.7174694279873323}, 20: {'mu': -4.104618578584708, 'std': 0.7068615466328718}, 21: {'mu': -4.040385131328401, 'std': 0.6587009847849307}, 22: {'mu': -3.976981254458665, 'std': 0.6748346103003082}, 23: {'mu': -4.048191732718016, 'std': 0.6962467851735631}, 24: {'mu': -3.861000021932104, 'std': 0.7078455209889041}, 25: {'mu': -3.9865864503863286, 'std': 0.6675559017461311}, 26: {'mu': -4.124677049565722, 'std': 0.7120018251945122}, 27: {'mu': -4.050834485296964, 'std': 0.7714808394878365}, 28: {'mu': -4.332544619446721, 'std': 0.7439261273344338}, 29: {'mu': -3.741640064537579, 'std': 0.6883895715971615}, 30: {'mu': -3.809153876673178, 'std': 0.7003056332182143}, 31: {'mu': -4.0029189398466665, 'std': 0.6812052797248017}, 32: {'mu': -4.088214595258327, 'std': 0.7638609330833283}, 33: {'mu': -4.000077243286214, 'std': 0.687538907683677}, 34: {'mu': -4.103224570681077, 'std': 0.6700421876278168}, 35: {'mu': -4.542472528713001, 'std': 0.7267708775162255}, 36: {'mu': -3.8791381048705564, 'std': 0.6987683159428514}, 37: {'mu': -4.238054803829972, 'std': 0.6966694688554447}, 38: {'mu': -4.1035959296788915, 'std': 0.7196340510905034}, 39: {'mu': -3.7408929830441973, 'std': 0.6623404925206042}, 40: {'mu': -3.7472291601984615, 'std': 0.6522075256570367}, 41: {'mu': -3.9704827231204014, 'std': 0.6106108284059393}, 42: {'mu': -4.103719222791997, 'std': 0.6969176059070398}, 43: {'mu': -4.214921761794297, 'std': 0.6607204752614232}, 44: {'mu': -3.91090496142901, 'std': 0.6826169602579175}, 45: {'mu': -4.308770908934653, 'std': 0.6670141555798901}, 46: {'mu': -4.042614983869643, 'std': 0.695957147666923}, 47: {'mu': -3.809336020983494, 'std': 0.6655696937295009}, 48: {'mu': -3.769258837987849, 'std': 0.6638046459994356}, 49: {'mu': -4.1285517281008595, 'std': 0.7076042810009165}}, 2: {0: {'mu': -3.943505801545035, 'std': 0.5262482835652448}, 1: {'mu': -4.291689769454139, 'std': 0.5379770226914528}, 2: {'mu': -3.948596691252835, 'std': 0.4823240482530748}, 3: {'mu': -4.043502254380308, 'std': 0.558922858792637}, 4: {'mu': -4.269610755007767, 'std': 0.6465762903736192}, 5: {'mu': -4.139593387354056, 'std': 0.5817405329824263}, 6: {'mu': -4.272680552993975, 'std': 0.593913604187963}, 7: {'mu': -4.252047109510807, 'std': 0.6167589637304122}, 8: {'mu': -4.250048743068213, 'std': 0.6040557779895401}, 9: {'mu': -4.1850042363641355, 'std': 0.6246429463998352}, 10: {'mu': -4.131050241907936, 'std': 0.6017328631640103}, 11: {'mu': -4.2075524385457435, 'std': 0.6554100935089286}, 12: {'mu': -4.129325622015568, 'std': 0.7032251088292065}, 13: {'mu': -4.018527948710456, 'std': 0.6612038183596808}, 14: {'mu': -3.975246688920307, 'std': 0.7385611227369621}, 15: {'mu': -3.9331623273302263, 'std': 0.6708850306977008}, 16: {'mu': -4.2395401061381435, 'std': 0.704026291138483}, 17: {'mu': -4.264269547950346, 'std': 0.7382638830396373}, 18: {'mu': -3.9348683773271937, 'std': 0.6536485896389017}, 19: {'mu': -3.945480762210011, 'std': 0.7403175437155033}, 20: {'mu': -3.9931342940841734, 'std': 0.6470077749219195}, 21: {'mu': -3.998537144144272, 'std': 0.6946119039271096}, 22: {'mu': -3.820877281180127, 'std': 0.6746005508138243}, 23: {'mu': -4.282272664156491, 'std': 0.6802412703890878}, 24: {'mu': -3.9360250851074756, 'std': 0.7394039312446327}, 25: {'mu': -4.143773782240596, 'std': 0.6549312351617697}, 26: {'mu': -4.059734824840657, 'std': 0.7153002337623299}, 27: {'mu': -4.011553080939872, 'std': 0.7086722369668359}, 28: {'mu': -3.9494487361378243, 'std': 0.7006913539816951}, 29: {'mu': -4.056681221539754, 'std': 0.6683857953880405}, 30: {'mu': -3.9396027334378254, 'std': 0.7598486551699347}, 31: {'mu': -3.875212089053326, 'std': 0.6438191765469805}, 32: {'mu': -4.226849427245592, 'std': 0.6792018065127553}, 33: {'mu': -4.298170650816036, 'std': 0.7562917117943277}, 34: {'mu': -4.368073824891458, 'std': 0.6721066055944104}, 35: {'mu': -3.943366404034622, 'std': 0.7092971971422489}, 36: {'mu': -4.038683539855535, 'std': 0.7114695170736502}, 37: {'mu': -3.9036039047226545, 'std': 0.6193186455505587}, 38: {'mu': -3.9623095531457104, 'std': 0.6171757238356185}, 39: {'mu': -3.9566669992428314, 'std': 0.7119214082604475}, 40: {'mu': -3.90346490824193, 'std': 0.6345239359614326}, 41: {'mu': -3.985168220218958, 'std': 0.6944819740903508}, 42: {'mu': -4.171192990840913, 'std': 0.662722275232056}, 43: {'mu': -4.004875841571079, 'std': 0.666454638501236}, 44: {'mu': -3.9416609682191974, 'std': 0.6772068822706155}, 45: {'mu': -4.2429506935938095, 'std': 0.7040645435309844}, 46: {'mu': -4.026201286636257, 'std': 0.6689094106389745}, 47: {'mu': -3.9554331082640046, 'std': 0.7086936555452951}, 48: {'mu': -4.270101374211076, 'std': 0.7122258396179497}, 49: {'mu': -3.8770177279003297, 'std': 0.6553520028534533}}}\n"
     ]
    }
   ],
   "source": [
    "def generate_znorm_experiment(\n",
    "    DEMOGRAPHIC_DISPLACEMENTS=[1, 1, 1],\n",
    "    DEMOGRAPHIC_STD=[0.2, 0.2, 0.2],\n",
    "    DEV_EVAL_IDENTITIES_PER_DEMOGRAPHIC=100,\n",
    "    T_NORM_IDENTITIES_PER_DEMOGRAPHIC=25,\n",
    "    Z_NORM_IDENTITIES_PER_DEMOGRAPHIC=25,\n",
    "    SEED=10,\n",
    "):\n",
    "\n",
    "    (\n",
    "        enroll_dev,\n",
    "        probe_dev,\n",
    "        enroll_eval,\n",
    "        probe_eval,\n",
    "        z_norm_samples,\n",
    "        t_norm_samples,\n",
    "    ) = experiments.generate_abstract_samples(\n",
    "        DEMOGRAPHIC_DISPLACEMENTS=DEMOGRAPHIC_DISPLACEMENTS,\n",
    "        DEMOGRAPHIC_STD=DEMOGRAPHIC_STD,\n",
    "        DEV_EVAL_IDENTITIES_PER_DEMOGRAPHIC=DEV_EVAL_IDENTITIES_PER_DEMOGRAPHIC,\n",
    "        T_NORM_IDENTITIES_PER_DEMOGRAPHIC=T_NORM_IDENTITIES_PER_DEMOGRAPHIC,\n",
    "        Z_NORM_IDENTITIES_PER_DEMOGRAPHIC=Z_NORM_IDENTITIES_PER_DEMOGRAPHIC,\n",
    "        SEED=SEED,\n",
    "    )\n",
    "\n",
    "    #impostors_per_demographic_dev_unfair, genuines_per_demographic_dev_unfair, \\\n",
    "    #impostors_per_demographic_eval_unfair, genuines_per_demographic_eval_unfair = \\\n",
    "    #generate_raw_scores(enroll_dev, probe_dev, enroll_eval, probe_eval)\n",
    "    \n",
    "    def compute_znorm_statistics(enroll_samples, z_norm):\n",
    "        \n",
    "        def stack_dictionary(z_norm):\n",
    "            return np.vstack([z_norm[demographic][identity] for demographic in z_norm for identity in z_norm[demographic]])\n",
    "\n",
    "        z_probes = stack_dictionary(z_norm)    \n",
    "        \n",
    "        z_statistics = {}\n",
    "        for demographic in enroll_samples:\n",
    "            z_statistics[demographic] = {}\n",
    "            for identity in enroll_samples[demographic]:\n",
    "                z_statistics[demographic][identity] = {}\n",
    "                z_scores = scoring.compute_scores([enroll_samples[demographic][identity]],z_probes)[0]\n",
    "                z_statistics[demographic][identity][\"mu\"] = np.mean(z_scores)\n",
    "                z_statistics[demographic][identity][\"std\"] = np.std(z_scores)\n",
    "        return z_statistics\n",
    "        \n",
    "    z_statistics = compute_znorm_statistics(enroll_dev, z_norm_samples)\n",
    "    \n",
    "    print(z_statistics)\n",
    "    \n",
    "                \n",
    "generate_znorm_experiment()                "
   ]
  },
  {
   "cell_type": "code",
   "execution_count": null,
   "metadata": {},
   "outputs": [],
   "source": []
  }
 ],
 "metadata": {
  "kernelspec": {
   "display_name": "Python 3",
   "language": "python",
   "name": "python3"
  },
  "language_info": {
   "codemirror_mode": {
    "name": "ipython",
    "version": 3
   },
   "file_extension": ".py",
   "mimetype": "text/x-python",
   "name": "python",
   "nbconvert_exporter": "python",
   "pygments_lexer": "ipython3",
   "version": "3.7.7"
  }
 },
 "nbformat": 4,
 "nbformat_minor": 4
}
